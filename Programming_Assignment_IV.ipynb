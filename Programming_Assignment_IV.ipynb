{
 "cells": [
  {
   "cell_type": "markdown",
   "id": "5a795550",
   "metadata": {},
   "source": [
    "# 🐍 Programming Assignment IV – Dictionaries, Sets, and Error Handling\n",
    "\n",
    "This assignment will help you practice using **dictionaries**, **sets**, and **error handling with `try/except`** in Python.\n",
    "\n",
    "Complete all 5 exercises below. Each function should be implemented in the corresponding code cell. Be sure to test your functions after writing them by calling them with different inputs.\n",
    "\n",
    "Remember to:\n",
    "- Follow instructions for each exercise carefully.\n",
    "- Use meaningful variable names and comments where needed.\n",
    "- **Add comments and explanations for your code!!**\n",
    "- Submit the `.html` file after completion.\n"
   ]
  },
  {
   "cell_type": "markdown",
   "id": "b5408a14",
   "metadata": {},
   "source": [
    "## Exercise 1: Student Grades Dictionary\n",
    "\n",
    "Write a function `get_average_grade(grades_dict)` that takes a dictionary where keys are student names and values are lists of integers (grades). \n",
    "Return a new dictionary where each student is mapped to their average grade (rounded to 1 decimal place if needed).\n",
    "\n",
    "**Example:**\n",
    "```python\n",
    "grades = {\n",
    "    \"Alice\": [80, 90, 85],\n",
    "    \"Bob\": [70, 75],\n",
    "    \"Charlie\": [100]\n",
    "}\n",
    "get_average_grade(grades)\n",
    "# Output: {'Alice': 85.0, 'Bob': 72.5, 'Charlie': 100.0}\n",
    "```"
   ]
  },
  {
   "cell_type": "code",
   "execution_count": null,
   "id": "2e7d1744",
   "metadata": {},
   "outputs": [
    {
     "name": "stdout",
     "output_type": "stream",
     "text": [
      "{'Alice': 85.0, 'Bob': 72.5, 'Charlie': 100.0}\n"
     ]
    }
   ],
   "source": [
    "# Your code here\n",
    "def get_average_grade(grades_dict): #Function that returns the average grade of each student\n",
    "    average_dict = {} #dictionary that is returned at the end of the function\n",
    "    for student in grades_dict: #for loop that loops through each student in the passed dictionary\n",
    "        average_dict[student] = sum(grades_dict[student])/len(grades_dict[student]) #calculates the average by dividing the sum by the length of the list of grades for the given student\n",
    "    return average_dict #returns the dictionary with the student averages\n",
    "\n",
    "#example\n",
    "grades = {\n",
    "    \"Alice\": [80, 90, 85],\n",
    "    \"Bob\": [70, 75],\n",
    "    \"Charlie\": [100]\n",
    "}\n",
    "print(get_average_grade(grades))"
   ]
  },
  {
   "cell_type": "markdown",
   "id": "9cf6cb35",
   "metadata": {},
   "source": [
    "## Exercise 2: Vocabulary Set Operations\n",
    "\n",
    "Write a function `compare_vocab(text1, text2)` that takes two strings and returns:\n",
    "\n",
    "1. A set of words that appear in **both** texts  \n",
    "2. A set of words that appear in **only one** of the texts  \n",
    "3. A set of words that appear in **either** text (union)\n",
    "\n",
    "Clean punctuation and ignore case.\n",
    "\n",
    "**Example:**\n",
    "```python\n",
    "compare_vocab(\"The cat sat on the mat.\", \"The dog sat under the mat.\")\n",
    "# Output:\n",
    "# ({\"the\", \"sat\", \"mat\"},\n",
    "#  {\"cat\", \"dog\", \"under\", \"on\"},\n",
    "#  {\"the\", \"cat\", \"sat\", \"on\", \"mat\", \"dog\", \"under\"})\n",
    "```"
   ]
  },
  {
   "cell_type": "code",
   "execution_count": null,
   "id": "acb33723",
   "metadata": {},
   "outputs": [
    {
     "name": "stdout",
     "output_type": "stream",
     "text": [
      "({'sat', 'mat', 'the'}, {'on', 'cat', 'dog', 'under'}, {'on', 'under', 'mat', 'the', 'sat', 'cat', 'dog'})\n"
     ]
    }
   ],
   "source": [
    "# Your code here\n",
    "import string\n",
    "\n",
    "def compare_vocab(text1, text2):\n",
    "    words1 = set(text1.translate(str.maketrans('','',string.punctuation)).lower().split()) #splits text1 into a set of individual words all lower case and cleans punctuation\n",
    "    words2 = set(text2.translate(str.maketrans('','',string.punctuation)).lower().split()) #splits text2 into a set of individual words all lower case and cleans punctuation\n",
    "    intersection = words1 & words2 #intersection of the two list\n",
    "    symmetric_difference = words1 ^ words2 #symmetric differences of the two list\n",
    "    union = words1 | words2 #union of the two list\n",
    "    return intersection, symmetric_difference, union #returns the three comparisons\n",
    "\n",
    "#example\n",
    "print(compare_vocab(\"The cat sat on the mat.\", \"The dog sat under the mat.\"))"
   ]
  },
  {
   "cell_type": "markdown",
   "id": "d6b30d89",
   "metadata": {},
   "source": [
    "## Exercise 3: Safe Dictionary Updater\n",
    "\n",
    "Write a function `update_scores(scoreboard, updates)` that takes:\n",
    "\n",
    "- A dictionary `scoreboard` mapping player names to scores (integers)  \n",
    "- A list of tuples `updates`, where each tuple contains a player name and a score delta (positive or negative)\n",
    "\n",
    "Update the dictionary **in-place**. Use `try/except` to handle the case where a player is missing from the scoreboard — in that case, print:\n",
    "`\"Warning: Player <name> not found.\"` and skip the update.\n",
    "\n",
    "**Example:**\n",
    "```python\n",
    "scoreboard = {\"Alice\": 10, \"Bob\": 5}\n",
    "updates = [(\"Alice\", 5), (\"Charlie\", 3), (\"Bob\", -2)]\n",
    "\n",
    "update_scores(scoreboard, updates)\n",
    "# Output:\n",
    "# Warning: Player Charlie not found.\n",
    "# scoreboard → {'Alice': 15, 'Bob': 3}\n",
    "```"
   ]
  },
  {
   "cell_type": "code",
   "execution_count": 44,
   "id": "c4bf9491",
   "metadata": {},
   "outputs": [
    {
     "name": "stdout",
     "output_type": "stream",
     "text": [
      "Warning: Player Charlie not found.\n",
      "{'Alice': 15, 'Bob': 3}\n"
     ]
    }
   ],
   "source": [
    "# Your code here\n",
    "def update_scores(scoreboard, updates): #function to update scoreboard\n",
    "    for update in updates: #loop that loops through each update\n",
    "        try: #trys to update the score for the given player\n",
    "            scoreboard[update[0]] += update[1] #adds the score of the update to their current score\n",
    "        except KeyError: #if player is not a key in the scoreboard dictionary output error\n",
    "            print(f\"Warning: Player {update[0]} not found.\")\n",
    "    return scoreboard #return the scoreboard\n",
    "\n",
    "scoreboard = {\"Alice\": 10, \"Bob\": 5}\n",
    "updates = [(\"Alice\", 5), (\"Charlie\", 3), (\"Bob\", -2)]\n",
    "print(update_scores(scoreboard, updates))"
   ]
  },
  {
   "cell_type": "markdown",
   "id": "412231cf",
   "metadata": {},
   "source": [
    "## Exercise 4: Inventory System with Error Handling\n",
    "\n",
    "Create a function `get_item_price(inventory, item_name)` that takes a dictionary mapping item names to prices. Use `try/except` to handle the case when the item is not found and return `\"Item not found\"`.\n",
    "\n",
    "**Example:**\n",
    "```python\n",
    "store = {\"apple\": 0.5, \"banana\": 0.3}\n",
    "get_item_price(store, \"apple\") → 0.5  \n",
    "get_item_price(store, \"orange\") → \"Item not found\"\n",
    "```"
   ]
  },
  {
   "cell_type": "code",
   "execution_count": 32,
   "id": "5237adb3",
   "metadata": {},
   "outputs": [
    {
     "name": "stdout",
     "output_type": "stream",
     "text": [
      "0.5\n",
      "Item not found\n"
     ]
    }
   ],
   "source": [
    "# Your code here\n",
    "def get_item_price(inventory, item_name): #function to retrive price of item\n",
    "    try:\n",
    "        print(inventory[item_name]) #trys to print the item value if the item is a key in the inventory dictionary\n",
    "    except KeyError: #if item is not in the dictionary print a error\n",
    "        print(\"Item not found\")\n",
    "\n",
    "#example\n",
    "store = {\"apple\": 0.5, \"banana\": 0.3}\n",
    "get_item_price(store, \"apple\")\n",
    "get_item_price(store, \"orange\")"
   ]
  },
  {
   "cell_type": "markdown",
   "id": "96a127e2",
   "metadata": {},
   "source": [
    "## Exercise 5: Word Frequency Counter (Full Combo)\n",
    "\n",
    "Write a function `word_frequencies(text)` that returns a dictionary of word counts in a string (case-insensitive, no punctuation). Use a `set` to find and print the number of unique words. Use `try/except` to catch cases where the input is **not a string**, in that case, return:  \n",
    "`\"Error: Input must be a string.\"`\n",
    "\n",
    "**Example:**\n",
    "```python\n",
    "word_frequencies(\"This is a test. This test is only a test.\")\n",
    "# Output:\n",
    "# {'this': 3, 'is': 2, 'a': 2, 'test': 3, 'only': 1}\n",
    "# (Also prints: Number of unique words: 5)\n",
    "```"
   ]
  },
  {
   "cell_type": "code",
   "execution_count": null,
   "id": "c8c2ca7c",
   "metadata": {},
   "outputs": [
    {
     "name": "stdout",
     "output_type": "stream",
     "text": [
      "{'this': 2, 'only': 1, 'test': 3, 'a': 2, 'is': 2}\n",
      "Number of unique words: 5\n"
     ]
    }
   ],
   "source": [
    "# Your code here\n",
    "def word_frequencies(text): #function to output frequencies of words and the ammount of unique words\n",
    "    words = text.translate(str.maketrans('','',string.punctuation)).lower().split() #splitss the words in text changing everything to lower case and removing punctuation\n",
    "    freq = dict.fromkeys(set(words), 0) #converts words list to set to remove duplicates and uses those values as keys in a dictionary with their associated values starting at 0\n",
    "    for word in words: #loops through all the words in the text\n",
    "        freq[word] += 1 #adds to the value of the word in the freq dictionary\n",
    "    print(freq) #prints the dictionary with every words frequency\n",
    "    print(f\"Number of unique words: {len(freq)}\") #prints the ammount of unique words which is the lenght of the dictionary\n",
    "\n",
    "#example\n",
    "word_frequencies(\"This is a test. This test is only a test.\")"
   ]
  }
 ],
 "metadata": {
  "kernelspec": {
   "display_name": "Python 3",
   "language": "python",
   "name": "python3"
  },
  "language_info": {
   "codemirror_mode": {
    "name": "ipython",
    "version": 3
   },
   "file_extension": ".py",
   "mimetype": "text/x-python",
   "name": "python",
   "nbconvert_exporter": "python",
   "pygments_lexer": "ipython3",
   "version": "3.13.1"
  }
 },
 "nbformat": 4,
 "nbformat_minor": 5
}
